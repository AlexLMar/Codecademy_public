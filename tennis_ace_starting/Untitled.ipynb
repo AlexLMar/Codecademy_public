{
 "cells": [
  {
   "cell_type": "code",
   "execution_count": null,
   "id": "728a7d63",
   "metadata": {},
   "outputs": [],
   "source": [
    "#### ... X = ['ServiceGamesPlayed']"
   ]
  },
  {
   "cell_type": "code",
   "execution_count": null,
   "id": "cbebca6b",
   "metadata": {},
   "outputs": [],
   "source": [
    "Now lets see how that model compares to one with just 'ServiceGamesPlayed':"
   ]
  },
  {
   "cell_type": "code",
   "execution_count": null,
   "id": "8d4d1766",
   "metadata": {},
   "outputs": [],
   "source": [
    "X_two = df_model[['ServiceGamesPlayed']]\n",
    "\n",
    "y = df_model[['Wins']]\n",
    "\n",
    "x_train, x_test, y_train, y_test = train_test_split(X_two, y, train_size=0.8, test_size=0.2, random_state=6)\n",
    "\n",
    "print(x_train.shape)\n",
    "print(x_test.shape)\n",
    "\n",
    "print(y_train.shape)\n",
    "print(y_test.shape)"
   ]
  },
  {
   "cell_type": "code",
   "execution_count": null,
   "id": "8d087d74",
   "metadata": {},
   "outputs": [],
   "source": [
    "reg = LinearRegression()\n",
    "reg.fit(x_train, y_train)\n",
    "\n",
    "    # Create predictions with the trained model on the test values of x\n",
    "\n",
    "y_predict = reg.predict(x_test)\n",
    "\n",
    "    # Predict the rent price (y variable) for a given set of x values, to compare it with the actual rent value\n",
    "\n",
    "plt.scatter(y_test, y_predict, alpha=0.2)\n",
    "plt.xlabel(\"Actual Wins\")\n",
    "plt.ylabel(\"Predicted Wins\")\n",
    "plt.title(\"Actual Wins vs. predicted Wins\")\n",
    "plt.show()\n",
    "plt.clf()\n",
    "\n",
    "print(\"Train score:\")\n",
    "print(mlr.score(X_two, y))"
   ]
  }
 ],
 "metadata": {
  "kernelspec": {
   "display_name": "Python 3 (ipykernel)",
   "language": "python",
   "name": "python3"
  },
  "language_info": {
   "codemirror_mode": {
    "name": "ipython",
    "version": 3
   },
   "file_extension": ".py",
   "mimetype": "text/x-python",
   "name": "python",
   "nbconvert_exporter": "python",
   "pygments_lexer": "ipython3",
   "version": "3.11.5"
  }
 },
 "nbformat": 4,
 "nbformat_minor": 5
}
